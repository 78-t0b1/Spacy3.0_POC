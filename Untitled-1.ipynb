{
 "metadata": {
  "language_info": {
   "codemirror_mode": {
    "name": "ipython",
    "version": 3
   },
   "file_extension": ".py",
   "mimetype": "text/x-python",
   "name": "python",
   "nbconvert_exporter": "python",
   "pygments_lexer": "ipython3",
   "version": "3.7.4-final"
  },
  "orig_nbformat": 2,
  "kernelspec": {
   "name": "python374jvsc74a57bd014d2504c7768dde78a88fa60d6333e9216999966a6daf097b5e17890ee8922d0",
   "display_name": "Python 3.7.4 64-bit ('.env': venv)"
  }
 },
 "nbformat": 4,
 "nbformat_minor": 2,
 "cells": [
  {
   "source": [
    "import spacy\n",
    "from spacy import displacy\n",
    "import PyPDF2\n",
    "\n",
    "nlp = spacy.load('en_core_web_trf')\n",
    "pdfFileObj = open(\n",
    "    'C:\\\\Users\\\\tanma\\\\Downloads\\\\TataComm_all_files\\\\TataComm_all_files\\\\msa_format_1\\\\msa_format_1_epdf\\\\test.pdf', 'rb')\n",
    "pdfReader = PyPDF2.PdfFileReader(pdfFileObj)\n",
    "pageObj = pdfReader.getPage(0)\n",
    "\n",
    "\n",
    "doc = nlp(pageObj.extractText())\n",
    "\n",
    "displacy.render(doc, style='ent')\n",
    "pdfFileObj.close()\n"
   ],
   "cell_type": "code",
   "metadata": {},
   "execution_count": 2,
   "outputs": [
    {
     "output_type": "stream",
     "name": "stderr",
     "text": [
      "PdfReadWarning: Xref table not zero-indexed. ID numbers for objects will be corrected. [pdf.py:1736]\n"
     ]
    },
    {
     "output_type": "display_data",
     "data": {
      "text/plain": "<IPython.core.display.HTML object>",
      "text/html": "<span class=\"tex2jax_ignore\"><div class=\"entities\" style=\"line-height: 2.5; direction: ltr\"> MASTER </br>SERVICES </br>AGREEMENT </br>   </br>MSA Reference No. **_****_*****</br>   Master Service Agreement (v</br>2.0</br>) (\n<mark class=\"entity\" style=\"background: #bfe1d9; padding: 0.45em 0.6em; margin: 0 0.25em; line-height: 1; border-radius: 0.35em;\">\n    April \n2013\n    <span style=\"font-size: 0.8em; font-weight: bold; line-height: 1; border-radius: 0.35em; vertical-align: middle; margin-left: 0.5rem\">DATE</span>\n</mark>\n) </br>Confidential and Proprietary</br> Page </br>1 </br>of 13</br>   Please Initial:  Supplier _____ Customer _____</br>  MASTER SERVICES AGREEMENT </br>COVER PAGE</br> This MASTER SERVICES AGREEMENT is entered into \n<mark class=\"entity\" style=\"background: #bfe1d9; padding: 0.45em 0.6em; margin: 0 0.25em; line-height: 1; border-radius: 0.35em;\">\n    this ___\n day of \n________\n, 201_\n \n    <span style=\"font-size: 0.8em; font-weight: bold; line-height: 1; border-radius: 0.35em; vertical-align: middle; margin-left: 0.5rem\">DATE</span>\n</mark>\n(</br>ﬁEffective Date</br>ﬂ) by and between the following </br>parties (each a </br>ﬁParty</br>ﬂ and collectively, the </br>ﬁParties</br>ﬂ):  </br> Customer Entity:</br> Supplier Entity:</br>    Customer Registered</br>/Business</br> Address:</br> Supplier Registered</br>/Business</br> Address:</br>    Customer Contact:</br> Supplier Contact:</br> \n<mark class=\"entity\" style=\"background: #e4e7d2; padding: 0.45em 0.6em; margin: 0 0.25em; line-height: 1; border-radius: 0.35em;\">\n    First\n    <span style=\"font-size: 0.8em; font-weight: bold; line-height: 1; border-radius: 0.35em; vertical-align: middle; margin-left: 0.5rem\">ORDINAL</span>\n</mark>\n Name:</br> Surname:</br> Title:</br> Telephone:</br> Fax:</br> Email:</br> \n<mark class=\"entity\" style=\"background: #e4e7d2; padding: 0.45em 0.6em; margin: 0 0.25em; line-height: 1; border-radius: 0.35em;\">\n    First\n    <span style=\"font-size: 0.8em; font-weight: bold; line-height: 1; border-radius: 0.35em; vertical-align: middle; margin-left: 0.5rem\">ORDINAL</span>\n</mark>\n Name:</br> Surname:</br> Title:</br> Telephone:</br> Fax:</br> Email:</br> Customer </br>Notice </br>Address:</br> Supplier Notice Address:</br>  \n<mark class=\"entity\" style=\"background: #7aecec; padding: 0.45em 0.6em; margin: 0 0.25em; line-height: 1; border-radius: 0.35em;\">\n    Tata Communications Exchange\n    <span style=\"font-size: 0.8em; font-weight: bold; line-height: 1; border-radius: 0.35em; vertical-align: middle; margin-left: 0.5rem\">ORG</span>\n</mark>\n</br> 35 Tai Seng Street #06</br>-01 Singapore 534103</br> Attention: Legal Department</br> Facsimile: +65 6634 8570</br>   This Master Services Agreement consists of this Cover Page, the attached Terms and Conditions, the Service Schedules appended</br> to </br>them or which are subsequently signed by the Parties and which refer to this Master Services Agreem</br>ent (including any Tariffs referred </br>to in, or attached to</br>, </br>the Service Schedule</br>(s)</br>), and </br>any </br>Customer Order Form(s) that refer to \n<mark class=\"entity\" style=\"background: #ff8197; padding: 0.45em 0.6em; margin: 0 0.25em; line-height: 1; border-radius: 0.35em;\">\n    this Master Services Agreement\n    <span style=\"font-size: 0.8em; font-weight: bold; line-height: 1; border-radius: 0.35em; vertical-align: middle; margin-left: 0.5rem\">LAW</span>\n</mark>\n </br>(collectively, \n<mark class=\"entity\" style=\"background: #ff8197; padding: 0.45em 0.6em; margin: 0 0.25em; line-height: 1; border-radius: 0.35em;\">\n    the ﬁ\nMaster Services Agreement\n    <span style=\"font-size: 0.8em; font-weight: bold; line-height: 1; border-radius: 0.35em; vertical-align: middle; margin-left: 0.5rem\">LAW</span>\n</mark>\n</br>ﬂ or ﬁ</br>Agreement</br>ﬂ).</br> IN WITNESS WHEREOF</br>, the Parties</br> have executed this Agreement as of the Effective Date.</br>  Customer:</br>  </br>    </br>Supplier:</br>  By :</br>  (Authorized Signature)</br>   (Typed or Printed Name)</br>   (Title</br>) </br>   By :</br>  (Authorized Signature)</br>   (Typed or Printed Name)</br>   (Title</br>) </br> </br>     </div></span>"
     },
     "metadata": {}
    }
   ]
  },
  {
   "cell_type": "code",
   "execution_count": 3,
   "metadata": {},
   "outputs": [
    {
     "output_type": "display_data",
     "data": {
      "text/plain": "<IPython.core.display.HTML object>",
      "text/html": "<span class=\"tex2jax_ignore\"><div class=\"entities\" style=\"line-height: 2.5; direction: ltr\"> MASTER </br>SERVICES </br>AGREEMENT </br>   </br>MSA Reference No. **_****_*****</br>   Master Service Agreement (v</br>2.0</br>) (\n<mark class=\"entity\" style=\"background: #bfe1d9; padding: 0.45em 0.6em; margin: 0 0.25em; line-height: 1; border-radius: 0.35em;\">\n    April \n2013\n    <span style=\"font-size: 0.8em; font-weight: bold; line-height: 1; border-radius: 0.35em; vertical-align: middle; margin-left: 0.5rem\">DATE</span>\n</mark>\n) </br>Confidential and Proprietary</br> Page </br>1 </br>of \n<mark class=\"entity\" style=\"background: #e4e7d2; padding: 0.45em 0.6em; margin: 0 0.25em; line-height: 1; border-radius: 0.35em;\">\n    13\n    <span style=\"font-size: 0.8em; font-weight: bold; line-height: 1; border-radius: 0.35em; vertical-align: middle; margin-left: 0.5rem\">CARDINAL</span>\n</mark>\n</br>   Please Initial:  Supplier _____ Customer _____</br>  MASTER SERVICES AGREEMENT </br>COVER PAGE</br> This MASTER SERVICES AGREEMENT is entered into this ___</br> day of </br>________</br>, \n<mark class=\"entity\" style=\"background: #e4e7d2; padding: 0.45em 0.6em; margin: 0 0.25em; line-height: 1; border-radius: 0.35em;\">\n    201\n    <span style=\"font-size: 0.8em; font-weight: bold; line-height: 1; border-radius: 0.35em; vertical-align: middle; margin-left: 0.5rem\">CARDINAL</span>\n</mark>\n_</br> (</br>ﬁEffective Date</br>ﬂ) by and between the following </br>parties (each a </br>ﬁParty</br>ﬂ and collectively, the </br>ﬁParties</br>ﬂ):  </br> \n<mark class=\"entity\" style=\"background: #f0d0ff; padding: 0.45em 0.6em; margin: 0 0.25em; line-height: 1; border-radius: 0.35em;\">\n    Customer Entity:\n    <span style=\"font-size: 0.8em; font-weight: bold; line-height: 1; border-radius: 0.35em; vertical-align: middle; margin-left: 0.5rem\">WORK_OF_ART</span>\n</mark>\n</br> Supplier Entity:</br>    Customer Registered</br>/Business</br> Address:</br> Supplier Registered</br>/Business</br> Address:</br>    Customer Contact:</br> Supplier Contact:</br> First Name:</br> Surname:</br> Title:</br> Telephone:</br> Fax:</br> Email:</br> First Name:</br> Surname:</br> Title:</br> Telephone:</br> Fax:</br> Email:</br> Customer </br>Notice </br>Address:</br> Supplier Notice Address:</br>  Tata Communications Exchange</br> 35 \n<mark class=\"entity\" style=\"background: #aa9cfc; padding: 0.45em 0.6em; margin: 0 0.25em; line-height: 1; border-radius: 0.35em;\">\n    Tai Seng\n    <span style=\"font-size: 0.8em; font-weight: bold; line-height: 1; border-radius: 0.35em; vertical-align: middle; margin-left: 0.5rem\">PERSON</span>\n</mark>\n Street #06</br>-01 Singapore 534103</br> Attention: Legal Department</br> Facsimile: +65 \n<mark class=\"entity\" style=\"background: #e4e7d2; padding: 0.45em 0.6em; margin: 0 0.25em; line-height: 1; border-radius: 0.35em;\">\n    6634\n    <span style=\"font-size: 0.8em; font-weight: bold; line-height: 1; border-radius: 0.35em; vertical-align: middle; margin-left: 0.5rem\">CARDINAL</span>\n</mark>\n 8570</br>   This Master Services Agreement consists of this Cover Page, the attached Terms and Conditions, the Service Schedules appended</br> to </br>them or which are subsequently signed by the Parties and which refer to this Master Services Agreem</br>ent (including any Tariffs referred </br>to in, or attached to</br>, </br>the Service Schedule</br>(s)</br>), and </br>any </br>Customer Order Form(s) that refer to this Master Services Agreement </br>(collectively, the ﬁ</br>Master Services Agreement</br>ﬂ or ﬁ</br>Agreement</br>ﬂ).</br> IN WITNESS WHEREOF</br>, the Parties</br> have executed this Agreement as of the Effective Date.</br>  Customer:</br>  </br>    </br>Supplier:</br>  By :</br>  (Authorized Signature)</br>   (Typed or \n<mark class=\"entity\" style=\"background: #aa9cfc; padding: 0.45em 0.6em; margin: 0 0.25em; line-height: 1; border-radius: 0.35em;\">\n    Printed Name\n    <span style=\"font-size: 0.8em; font-weight: bold; line-height: 1; border-radius: 0.35em; vertical-align: middle; margin-left: 0.5rem\">PERSON</span>\n</mark>\n)</br>   (Title</br>) </br>   By :</br>  (Authorized Signature)</br>   (Typed or \n<mark class=\"entity\" style=\"background: #aa9cfc; padding: 0.45em 0.6em; margin: 0 0.25em; line-height: 1; border-radius: 0.35em;\">\n    Printed Name\n    <span style=\"font-size: 0.8em; font-weight: bold; line-height: 1; border-radius: 0.35em; vertical-align: middle; margin-left: 0.5rem\">PERSON</span>\n</mark>\n)</br>   (\n<mark class=\"entity\" style=\"background: #ff8197; padding: 0.45em 0.6em; margin: 0 0.25em; line-height: 1; border-radius: 0.35em;\">\n    Title\n\n    <span style=\"font-size: 0.8em; font-weight: bold; line-height: 1; border-radius: 0.35em; vertical-align: middle; margin-left: 0.5rem\">LAW</span>\n</mark>\n) </br> </br>     </div></span>"
     },
     "metadata": {}
    }
   ],
   "source": [
    "import spacy\n",
    "from spacy import displacy\n",
    "import PyPDF2\n",
    "\n",
    "nlp = spacy.load('en_core_web_sm')\n",
    "pdfFileObj = open(\n",
    "    'C:\\\\Users\\\\tanma\\\\Downloads\\\\TataComm_all_files\\\\TataComm_all_files\\\\msa_format_1\\\\msa_format_1_epdf\\\\test.pdf', 'rb')\n",
    "pdfReader = PyPDF2.PdfFileReader(pdfFileObj)\n",
    "pageObj = pdfReader.getPage(0)\n",
    "\n",
    "\n",
    "doc = nlp(pageObj.extractText())\n",
    "\n",
    "displacy.render(doc, style='ent')\n",
    "pdfFileObj.close()"
   ]
  },
  {
   "cell_type": "code",
   "execution_count": 4,
   "metadata": {},
   "outputs": [
    {
     "output_type": "display_data",
     "data": {
      "text/plain": "<IPython.core.display.HTML object>",
      "text/html": "<span class=\"tex2jax_ignore\"><div class=\"entities\" style=\"line-height: 2.5; direction: ltr\"> MASTER </br>SERVICES </br>AGREEMENT </br>   </br>\n<mark class=\"entity\" style=\"background: #7aecec; padding: 0.45em 0.6em; margin: 0 0.25em; line-height: 1; border-radius: 0.35em;\">\n    MSA\n    <span style=\"font-size: 0.8em; font-weight: bold; line-height: 1; border-radius: 0.35em; vertical-align: middle; margin-left: 0.5rem\">ORG</span>\n</mark>\n Reference No. **_****_*****</br>   Master Service Agreement (v</br>2.0</br>) (\n<mark class=\"entity\" style=\"background: #bfe1d9; padding: 0.45em 0.6em; margin: 0 0.25em; line-height: 1; border-radius: 0.35em;\">\n    April \n2013\n    <span style=\"font-size: 0.8em; font-weight: bold; line-height: 1; border-radius: 0.35em; vertical-align: middle; margin-left: 0.5rem\">DATE</span>\n</mark>\n) </br>\n<mark class=\"entity\" style=\"background: #f0d0ff; padding: 0.45em 0.6em; margin: 0 0.25em; line-height: 1; border-radius: 0.35em;\">\n    Confidential and Proprietary\n \n    <span style=\"font-size: 0.8em; font-weight: bold; line-height: 1; border-radius: 0.35em; vertical-align: middle; margin-left: 0.5rem\">WORK_OF_ART</span>\n</mark>\nPage </br>1 </br>of \n<mark class=\"entity\" style=\"background: #e4e7d2; padding: 0.45em 0.6em; margin: 0 0.25em; line-height: 1; border-radius: 0.35em;\">\n    13\n    <span style=\"font-size: 0.8em; font-weight: bold; line-height: 1; border-radius: 0.35em; vertical-align: middle; margin-left: 0.5rem\">CARDINAL</span>\n</mark>\n</br>   Please Initial:  Supplier _____ Customer _____</br>  MASTER SERVICES AGREEMENT </br>COVER PAGE</br> This MASTER SERVICES AGREEMENT is entered into this ___</br> day of </br>________</br>, \n<mark class=\"entity\" style=\"background: #e4e7d2; padding: 0.45em 0.6em; margin: 0 0.25em; line-height: 1; border-radius: 0.35em;\">\n    201\n    <span style=\"font-size: 0.8em; font-weight: bold; line-height: 1; border-radius: 0.35em; vertical-align: middle; margin-left: 0.5rem\">CARDINAL</span>\n</mark>\n_</br> (</br>ﬁEffective Date</br>ﬂ) by and between the following </br>parties (each a </br>ﬁParty</br>ﬂ and collectively, the </br>ﬁParties</br>ﬂ):  </br> \n<mark class=\"entity\" style=\"background: #7aecec; padding: 0.45em 0.6em; margin: 0 0.25em; line-height: 1; border-radius: 0.35em;\">\n    Customer Entity:\n \n    <span style=\"font-size: 0.8em; font-weight: bold; line-height: 1; border-radius: 0.35em; vertical-align: middle; margin-left: 0.5rem\">ORG</span>\n</mark>\nSupplier Entity:</br>    Customer Registered</br>/Business</br> Address:</br> Supplier Registered</br>/Business</br> Address:</br>    Customer Contact:</br> Supplier Contact:</br> First Name:</br> Surname:</br> Title:</br> Telephone:</br> Fax:</br> Email:</br> First Name:</br> Surname:</br> Title:</br> Telephone:</br> Fax:</br> Email:</br> Customer </br>Notice </br>Address:</br> Supplier Notice Address:</br>  \n<mark class=\"entity\" style=\"background: #7aecec; padding: 0.45em 0.6em; margin: 0 0.25em; line-height: 1; border-radius: 0.35em;\">\n    Tata Communications Exchange\n    <span style=\"font-size: 0.8em; font-weight: bold; line-height: 1; border-radius: 0.35em; vertical-align: middle; margin-left: 0.5rem\">ORG</span>\n</mark>\n</br> 35 \n<mark class=\"entity\" style=\"background: #7aecec; padding: 0.45em 0.6em; margin: 0 0.25em; line-height: 1; border-radius: 0.35em;\">\n    Tai Seng Street\n    <span style=\"font-size: 0.8em; font-weight: bold; line-height: 1; border-radius: 0.35em; vertical-align: middle; margin-left: 0.5rem\">ORG</span>\n</mark>\n #06</br>-01 \n<mark class=\"entity\" style=\"background: #feca74; padding: 0.45em 0.6em; margin: 0 0.25em; line-height: 1; border-radius: 0.35em;\">\n    Singapore\n    <span style=\"font-size: 0.8em; font-weight: bold; line-height: 1; border-radius: 0.35em; vertical-align: middle; margin-left: 0.5rem\">GPE</span>\n</mark>\n \n<mark class=\"entity\" style=\"background: #bfe1d9; padding: 0.45em 0.6em; margin: 0 0.25em; line-height: 1; border-radius: 0.35em;\">\n    534103\n    <span style=\"font-size: 0.8em; font-weight: bold; line-height: 1; border-radius: 0.35em; vertical-align: middle; margin-left: 0.5rem\">DATE</span>\n</mark>\n</br> Attention: Legal Department</br> Facsimile: +65 6634 8570</br>   \n<mark class=\"entity\" style=\"background: #7aecec; padding: 0.45em 0.6em; margin: 0 0.25em; line-height: 1; border-radius: 0.35em;\">\n    This Master Services Agreement\n    <span style=\"font-size: 0.8em; font-weight: bold; line-height: 1; border-radius: 0.35em; vertical-align: middle; margin-left: 0.5rem\">ORG</span>\n</mark>\n consists of \n<mark class=\"entity\" style=\"background: #ff8197; padding: 0.45em 0.6em; margin: 0 0.25em; line-height: 1; border-radius: 0.35em;\">\n    this Cover Page\n    <span style=\"font-size: 0.8em; font-weight: bold; line-height: 1; border-radius: 0.35em; vertical-align: middle; margin-left: 0.5rem\">LAW</span>\n</mark>\n, the attached Terms and Conditions, \n<mark class=\"entity\" style=\"background: #7aecec; padding: 0.45em 0.6em; margin: 0 0.25em; line-height: 1; border-radius: 0.35em;\">\n    the Service Schedules\n    <span style=\"font-size: 0.8em; font-weight: bold; line-height: 1; border-radius: 0.35em; vertical-align: middle; margin-left: 0.5rem\">ORG</span>\n</mark>\n appended</br> to </br>them or which are subsequently signed by the \n<mark class=\"entity\" style=\"background: #7aecec; padding: 0.45em 0.6em; margin: 0 0.25em; line-height: 1; border-radius: 0.35em;\">\n    Parties\n    <span style=\"font-size: 0.8em; font-weight: bold; line-height: 1; border-radius: 0.35em; vertical-align: middle; margin-left: 0.5rem\">ORG</span>\n</mark>\n and which refer to this Master Services Agreem</br>ent (including any Tariffs referred </br>to in, or attached to</br>, </br>the Service Schedule</br>(s)</br>), and </br>any </br>Customer Order Form(s) that refer to \n<mark class=\"entity\" style=\"background: #7aecec; padding: 0.45em 0.6em; margin: 0 0.25em; line-height: 1; border-radius: 0.35em;\">\n    this Master Services Agreement \n\n    <span style=\"font-size: 0.8em; font-weight: bold; line-height: 1; border-radius: 0.35em; vertical-align: middle; margin-left: 0.5rem\">ORG</span>\n</mark>\n(collectively, the ﬁ</br>Master Services Agreement</br>ﬂ or ﬁ</br>Agreement</br>ﬂ).</br> IN WITNESS WHEREOF</br>, \n<mark class=\"entity\" style=\"background: #7aecec; padding: 0.45em 0.6em; margin: 0 0.25em; line-height: 1; border-radius: 0.35em;\">\n    the Parties\n \n    <span style=\"font-size: 0.8em; font-weight: bold; line-height: 1; border-radius: 0.35em; vertical-align: middle; margin-left: 0.5rem\">ORG</span>\n</mark>\nhave executed this Agreement as of \n<mark class=\"entity\" style=\"background: #ff8197; padding: 0.45em 0.6em; margin: 0 0.25em; line-height: 1; border-radius: 0.35em;\">\n    the Effective Date\n    <span style=\"font-size: 0.8em; font-weight: bold; line-height: 1; border-radius: 0.35em; vertical-align: middle; margin-left: 0.5rem\">LAW</span>\n</mark>\n.</br>  Customer:</br>  </br>    </br>Supplier:</br>  By :</br>  (Authorized Signature)</br>   (Typed or Printed Name)</br>   (Title</br>) </br>   By :</br>  (Authorized Signature)</br>   (Typed or Printed Name)</br>   (Title</br>) </br> </br>     </div></span>"
     },
     "metadata": {}
    }
   ],
   "source": [
    "import spacy\n",
    "from spacy import displacy\n",
    "import PyPDF2\n",
    "\n",
    "nlp = spacy.load('en_core_web_lg')\n",
    "pdfFileObj = open(\n",
    "    'C:\\\\Users\\\\tanma\\\\Downloads\\\\TataComm_all_files\\\\TataComm_all_files\\\\msa_format_1\\\\msa_format_1_epdf\\\\test.pdf', 'rb')\n",
    "pdfReader = PyPDF2.PdfFileReader(pdfFileObj)\n",
    "pageObj = pdfReader.getPage(0)\n",
    "\n",
    "\n",
    "doc = nlp(pageObj.extractText())\n",
    "\n",
    "displacy.render(doc, style='ent')\n",
    "pdfFileObj.close()"
   ]
  },
  {
   "cell_type": "code",
   "execution_count": null,
   "metadata": {},
   "outputs": [],
   "source": []
  }
 ]
}